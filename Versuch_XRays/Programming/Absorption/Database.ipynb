{
 "cells": [
  {
   "cell_type": "code",
   "execution_count": 33,
   "metadata": {},
   "outputs": [],
   "source": [
    "import numpy as np\n",
    "import matplotlib.pyplot as plt\n",
    "import pandas as pd\n",
    "plt.style.use('fivethirtyeight')\n",
    "import matplotlib\n",
    "from scipy.optimize import curve_fit\n",
    "\n",
    "#matplotlib.rcParams.update({'font.size': 14})\n",
    "matplotlib.rcParams.update({'errorbar.capsize': 2})\n",
    "matplotlib.rcParams.update({'lines.linewidth': 2})"
   ]
  },
  {
   "cell_type": "code",
   "execution_count": 34,
   "metadata": {},
   "outputs": [],
   "source": [
    "def ev_to_angstrom(energy_ev):\n",
    "    \"\"\"\n",
    "    Convert energy in electron volts (eV) to Ångström (Å).\n",
    "    \n",
    "    Parameters:\n",
    "        energy_ev (float): Energy value in electron volts (eV).\n",
    "    \n",
    "    Returns:\n",
    "        float: Energy value converted to Ångström (Å).\n",
    "    \"\"\"\n",
    "    conversion_factor = 1.23984193 / energy_ev\n",
    "    energy_angstrom = conversion_factor * 10000\n",
    "    \n",
    "    return energy_angstrom\n"
   ]
  },
  {
   "cell_type": "code",
   "execution_count": 35,
   "metadata": {},
   "outputs": [
    {
     "name": "stdout",
     "output_type": "stream",
     "text": [
      "   Element  TheoreticalValue  ExperimentalValue   Z   anstrom\n",
      "0       Se          11222.55          11222.520  34  1.104780\n",
      "1       Br          11924.02          11924.360  35  1.039756\n",
      "2       Kr          12648.00          12648.002  36  0.980267\n",
      "3       Rb          13395.05          13395.490  37  0.925567\n",
      "4       Sr          14164.80          14165.200  38  0.875273\n",
      "5        Y          14958.14          14958.540  39  0.828852\n",
      "6       Zr          15774.87          15774.914  40  0.785958\n",
      "7       Nb          16615.65          16615.160  41  0.746211\n",
      "8       Mo          17479.10          17479.372  42  0.709317\n",
      "9       Tc          18367.56          18367.200  43  0.675030\n",
      "10      Ru          19279.51          19279.160  44  0.643100\n",
      "11      Rh          20215.75          20216.120  45  0.613294\n",
      "12      Pd          21177.25          21177.080  46  0.585464\n",
      "13      Ag          22162.99          22162.917  47  0.559422\n",
      "14      Cd          23173.73          23173.980  48  0.535015\n",
      "15      In          24209.78          24209.750  49  0.512125\n",
      "16      Sn          25271.34          25271.360  50  0.490611\n",
      "17      Sb          26358.69          26358.860  51  0.470370\n",
      "18      Te          27472.09          27472.570  52  0.451302\n",
      "19       I           2811.94          28612.320  53  0.433325\n",
      "20      Xe          29778.30          29778.780  54  0.416351\n",
      "21      Cs          30972.05          30973.130  55  0.400296\n",
      "22      Ba          32192.87          32193.262  56  0.385125\n",
      "23      La          33441.62          33442.120  57  0.370743\n",
      "24      Ce          34720.09          34720.000  58  0.357097\n",
      "25      Pr          36026.27          36026.710  59  0.344145\n",
      "26      Nd          37361.40          37360.739  60  0.331857\n"
     ]
    }
   ],
   "source": [
    "df = pd.read_csv('DataDatabaseXray2.csv')\n",
    "df['anstrom'] = ev_to_angstrom(df['ExperimentalValue'])\n",
    "print(df)\n"
   ]
  },
  {
   "cell_type": "code",
   "execution_count": 56,
   "metadata": {},
   "outputs": [
    {
     "name": "stdout",
     "output_type": "stream",
     "text": [
      "<class 'str'>\n"
     ]
    },
    {
     "data": {
      "text/plain": [
       "Text(0, 0.5, '$\\\\lambda $ in $\\\\AA$')"
      ]
     },
     "execution_count": 56,
     "metadata": {},
     "output_type": "execute_result"
    },
    {
     "data": {
      "image/png": "[encoded data removed]",
      "text/plain": [
       "<Figure size 720x288 with 1 Axes>"
      ]
     },
     "metadata": {},
     "output_type": "display_data"
    }
   ],
   "source": [
    "plt.figure(figsize=(10, 4))\n",
    "plt.plot(df['Z'], df['anstrom'], ls='None', marker = 'x', color = 'r')\n",
    "# plt.text(df.loc[:,'Z']+0.2, df.loc[:,'anstrom']+0.02,df.loc[:,'Element']) \n",
    "for i in range(27):\n",
    "    plt.text(df.loc[i,'Z']+0.2, df.loc[i,'anstrom']+0.02, df.loc[i,'Element'])\n",
    "\n",
    "plt.text(34, 0.61, 'F8')\n",
    "\n",
    "print(type(df.loc[1,'Element']))\n",
    "# plt.errorbar(df_peaks2['angle'],df_siegbrand_beobachtet2['theta_reflex2'], yerr= None, xerr= df_peaks2['error'],fmt='.',elinewidth= 1, ecolor= 'black', marker = 'x', color = 'r', label = 'peak position')\n",
    "# plt.plot(xdata,ydata_fit16to26, label = 'fit')\n",
    "plt.hlines(0.59,xmin = 34, xmax = 60, color = 'b', alpha = 0.3)\n",
    "\n",
    "plt.xlabel(r'Z')\n",
    "plt.ylabel(r'$\\lambda $ in $\\AA$')\n",
    "\n",
    "\n",
    "# plt.xlim(16,22)\n",
    "# plt.ylim(16,22)\n",
    "\n",
    "#plt.tight_layout()\n",
    "# plt.legend()"
   ]
  }
 ],
 "metadata": {
  "kernelspec": {
   "display_name": "Python 3",
   "language": "python",
   "name": "python3"
  },
  "language_info": {
   "codemirror_mode": {
    "name": "ipython",
    "version": 3
   },
   "file_extension": ".py",
   "mimetype": "text/x-python",
   "name": "python",
   "nbconvert_exporter": "python",
   "pygments_lexer": "ipython3",
   "version": "3.10.3"
  },
  "orig_nbformat": 4
 },
 "nbformat": 4,
 "nbformat_minor": 2
}
