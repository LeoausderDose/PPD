{
 "cells": [
  {
   "cell_type": "code",
   "execution_count": 1,
   "metadata": {},
   "outputs": [],
   "source": [
    "import numpy as np\n",
    "import matplotlib.pyplot as plt\n",
    "import pandas as pd\n",
    "plt.style.use('fivethirtyeight')\n",
    "import matplotlib\n",
    "from scipy.optimize import curve_fit\n",
    "\n",
    "#matplotlib.rcParams.update({'font.size': 14})\n",
    "matplotlib.rcParams.update({'errorbar.capsize': 2})\n",
    "matplotlib.rcParams.update({'lines.linewidth': 2})"
   ]
  },
  {
   "cell_type": "code",
   "execution_count": 2,
   "metadata": {},
   "outputs": [],
   "source": [
    "def ev_to_angstrom(energy_ev):\n",
    "    \"\"\"\n",
    "    Convert energy in electron volts (eV) to Ångström (Å).\n",
    "    \n",
    "    Parameters:\n",
    "        energy_ev (float): Energy value in electron volts (eV).\n",
    "    \n",
    "    Returns:\n",
    "        float: Energy value converted to Ångström (Å).\n",
    "    \"\"\"\n",
    "    conversion_factor = 1.23984193 / energy_ev\n",
    "    energy_angstrom = conversion_factor * 10000\n",
    "    \n",
    "    return energy_angstrom\n"
   ]
  },
  {
   "cell_type": "code",
   "execution_count": 4,
   "metadata": {},
   "outputs": [],
   "source": [
    "df = pd.read_csv('UebergangeMo.csv')\n"
   ]
  },
  {
   "cell_type": "code",
   "execution_count": 10,
   "metadata": {},
   "outputs": [
    {
     "name": "stdout",
     "output_type": "stream",
     "text": [
      "\\begin{tabular}{llrr}\n",
      "\\toprule\n",
      " & transition & eneryineV & EdgeInA \\\\\n",
      "\\midrule\n",
      "0 & KL1 & 17135.000000 & 0.720000 \\\\\n",
      "1 & KL3 & 17479.100000 & 0.710000 \\\\\n",
      "2 & KM1 & 19495.800000 & 0.640000 \\\\\n",
      "3 & KM3 & 19607.100000 & 0.630000 \\\\\n",
      "4 & KM4 & 19768.700000 & 0.630000 \\\\\n",
      "5 & KM5 & 19772.810000 & 0.630000 \\\\\n",
      "6 & KN1 & 19940.300000 & 0.620000 \\\\\n",
      "7 & KN3 & 19967.160000 & 0.620000 \\\\\n",
      "8 & KN4 & 20000.730000 & 0.620000 \\\\\n",
      "9 & KN5 & 19999.840000 & 0.620000 \\\\\n",
      "\\bottomrule\n",
      "\\end{tabular}\n",
      "\n"
     ]
    }
   ],
   "source": [
    "df['EdgeInA'] = ev_to_angstrom(df['eneryineV'])\n",
    "\n",
    "print(df.round(2).to_latex())\n"
   ]
  }
 ],
 "metadata": {
  "kernelspec": {
   "display_name": "Python 3",
   "language": "python",
   "name": "python3"
  },
  "language_info": {
   "codemirror_mode": {
    "name": "ipython",
    "version": 3
   },
   "file_extension": ".py",
   "mimetype": "text/x-python",
   "name": "python",
   "nbconvert_exporter": "python",
   "pygments_lexer": "ipython3",
   "version": "3.10.11"
  },
  "orig_nbformat": 4
 },
 "nbformat": 4,
 "nbformat_minor": 2
}
