{
 "cells": [
  {
   "attachments": {},
   "cell_type": "markdown",
   "metadata": {},
   "source": [
    "# Influnece of method\n"
   ]
  },
  {
   "cell_type": "code",
   "execution_count": 24,
   "metadata": {},
   "outputs": [],
   "source": [
    "import matplotlib.pyplot as plt\n",
    "import numpy as np\n",
    "import pandas as pd\n",
    "import matplotlib.style\n",
    "plt.style.use('fivethirtyeight')\n",
    "import tikzplotlib\n",
    "from scipy.optimize import curve_fit"
   ]
  },
  {
   "attachments": {},
   "cell_type": "markdown",
   "metadata": {},
   "source": [
    "## Daten Einlesen\n"
   ]
  },
  {
   "cell_type": "code",
   "execution_count": 25,
   "metadata": {},
   "outputs": [
    {
     "name": "stdout",
     "output_type": "stream",
     "text": [
      "   c/ g/l  d/nm         f\n",
      "0       1     0  0.004296\n",
      "1       1     0  0.003691\n",
      "2       1     0  0.004336\n",
      "3       1     0  0.004798\n",
      "4       1     0  0.004772\n",
      "5       1     0  0.003948\n"
     ]
    }
   ],
   "source": [
    "dfref1   = pd.read_excel('data/EigeneDaten/Ref1.xlsx')  \n",
    "dfref25  = pd.read_excel('data/EigeneDaten/Ref25.xlsx')\n",
    "dfref50  = pd.read_excel('data/EigeneDaten/Ref50.xlsx')\n",
    "dfref100 = pd.read_excel('data/EigeneDaten/Ref100.xlsx')\n",
    "dfref200 = pd.read_excel('data/EigeneDaten/Ref200.xlsx')\n",
    "dfref250 = pd.read_excel('data/EigeneDaten/Ref250.xlsx')\n",
    "dfref300 = pd.read_excel('data/EigeneDaten/Ref300.xlsx')\n",
    "\n",
    "\n",
    "\n",
    "dftrans1   = pd.read_excel('data/EigeneDaten/Trans1.xlsx')  \n",
    "dftrans25  = pd.read_excel('data/EigeneDaten/Trans25.xlsx')\n",
    "dftrans50  = pd.read_excel('data/EigeneDaten/Trans50.xlsx')\n",
    "dftrans100 = pd.read_excel('data/EigeneDaten/Trans100.xlsx')\n",
    "dftrans200 = pd.read_excel('data/EigeneDaten/Trans200.xlsx')\n",
    "dftrans250 = pd.read_excel('data/EigeneDaten/Trans250.xlsx')\n",
    "dftrans300 = pd.read_excel('data/EigeneDaten/Trans300.xlsx')\n",
    "\n",
    "print(dfref1)\n",
    "# dfspec_ref500rpm = pd.read_csv('data/messmethode/Reflektion/500rpm_refl_1.xy', delimiter=',', header = None, names=['nm', 'ref'])\n",
    "# dfspec_ref2000rpm = pd.read_csv('data/messmethode/Reflektion/2000rpm_refl_1.xy', delimiter=',', header = None, names=['nm', 'ref'])\n",
    "# dfspec_ref5000rpm = pd.read_csv('data/messmethode/Reflektion/5000rpm_refl_1.xy', delimiter=',', header = None, names=['nm', 'ref'])\n",
    "# dfspec_trans500rpm = pd.read_csv('data/messmethode/Transmission/500rpm_trans_1.xy', delimiter=',', header = None, names=['nm', 'ref'])\n",
    "# dfspec_trans2000rpm = pd.read_csv('data/messmethode/Transmission/2000rpm_trans_1.xy', delimiter=',', header = None, names=['nm', 'ref'])\n",
    "# dfspec_trans5000rpm = pd.read_csv('data/messmethode/Transmission/5000rpm_trans_1.xy', delimiter=',', header = None, names=['nm', 'ref'])"
   ]
  },
  {
   "attachments": {},
   "cell_type": "markdown",
   "metadata": {},
   "source": [
    "## Funktionen"
   ]
  },
  {
   "cell_type": "code",
   "execution_count": 26,
   "metadata": {},
   "outputs": [],
   "source": [
    "def mittelwert(df):\n",
    "    if np.std(df.loc[:,'d/nm']) > 0:\n",
    "        return np.array([np.mean(df.loc[:,'d/nm']), np.std(df.loc[:,'d/nm']), np.mean(df.loc[:,'d/nm'])/ np.std(df.loc[:,'d/nm']), np.mean(df.loc[:,'f']), np.std(df.loc[:,'d/nm'])/np.mean(df.loc[:,'f'])])\n",
    "    else:\n",
    "        print('Es gint 0 Werte!')\n",
    "        return np.array([np.mean(df.loc[:,'d/nm']), np.std(df.loc[:,'d/nm']), np.mean(df.loc[:,'d/nm'])/ np.std(df.loc[:,'f']), np.mean(df.loc[:,'f']), np.std(df.loc[:,'d/nm'])/np.mean(df.loc[:,'f'])])\n",
    "\n",
    "\n",
    "# def mittelwert(df):\n",
    "#     return np.array([np.mean(df.loc[:,'d/nm']), np.std(df.loc[:,'d/nm']), np.mean(df.loc[:,'d/nm'])/ np.std(df.loc[:,'d/nm']), np.mean(df.loc[:,'f']), np.std(df.loc[:,'d/nm'])/np.mean(df.loc[:,'f'])])\n",
    "\n"
   ]
  },
  {
   "cell_type": "code",
   "execution_count": 27,
   "metadata": {},
   "outputs": [
    {
     "name": "stdout",
     "output_type": "stream",
     "text": [
      "Es gint 0 Werte!\n",
      "Es gint 0 Werte!\n",
      "[[0.00000000e+00 0.00000000e+00 0.00000000e+00 4.30683333e-03\n",
      "  0.00000000e+00]\n",
      " [5.48000000e+01 5.32290647e-01 1.02951273e+02 1.69850000e-03\n",
      "  3.13388665e+02]\n",
      " [1.84333333e+02 7.08676388e-01 2.60109320e+02 5.07200000e-03\n",
      "  1.39723263e+02]\n",
      " [5.06916667e+02 1.11512954e+01 4.54580969e+01 1.46605000e-02\n",
      "  7.60635407e+02]\n",
      " [1.60861667e+03 6.96668660e+00 2.30901253e+02 1.09588333e-02\n",
      "  6.35714258e+02]\n",
      " [2.39020000e+03 2.58823621e+01 9.23486038e+01 1.52886667e-02\n",
      "  1.69291166e+03]\n",
      " [3.60360000e+03 8.91463030e+01 4.04234374e+01 3.71438333e-02\n",
      "  2.40002969e+03]]\n"
     ]
    }
   ],
   "source": [
    "heterogeneity_ref = mittelwert(dfref1)\n",
    "for i in [dfref25  ,dfref50  ,dfref100 ,dfref200 ,dfref250 ,dfref300 ]:\n",
    "    heterogeneity_ref = np.vstack((heterogeneity_ref, mittelwert(i)))\n",
    "\n",
    "heterogeneity_trans = mittelwert(dftrans1)\n",
    "for i in [dftrans25 ,dftrans50 ,dftrans100,dftrans200,dftrans250,dftrans300]:\n",
    "    heterogeneity_trans = np.vstack((heterogeneity_trans, mittelwert(i)))\n",
    "\n",
    "print(heterogeneity_ref)"
   ]
  },
  {
   "cell_type": "code",
   "execution_count": 28,
   "metadata": {},
   "outputs": [],
   "source": [
    "heterogeneity_ref = np.hstack((np.array([[1,25,50,100,200,250,300]]).T, heterogeneity_ref))\n",
    "heterogeneity_trans = np.hstack((np.array([[1,25,50,100,200,250,300]]).T, heterogeneity_trans))"
   ]
  },
  {
   "cell_type": "code",
   "execution_count": 29,
   "metadata": {},
   "outputs": [],
   "source": [
    "def schubertEquation(x, A, c0):\n",
    "    return A*(1950/x)**0.5 * (c0/20) * (35/100)**0.25"
   ]
  },
  {
   "attachments": {},
   "cell_type": "markdown",
   "metadata": {},
   "source": [
    "## Plot Heterogenity\n"
   ]
  },
  {
   "cell_type": "code",
   "execution_count": 36,
   "metadata": {},
   "outputs": [
    {
     "data": {
      "text/plain": [
       "<matplotlib.legend.Legend at 0x1f397ed93c0>"
      ]
     },
     "execution_count": 36,
     "metadata": {},
     "output_type": "execute_result"
    },
    {
     "data": {
      "image/png": "[encoded data removed]",
      "text/plain": [
       "<Figure size 640x480 with 1 Axes>"
      ]
     },
     "metadata": {},
     "output_type": "display_data"
    }
   ],
   "source": [
    "plt.plot(heterogeneity_ref[:,0],heterogeneity_ref[:,1], label  = 'reflection')\n",
    "plt.plot(heterogeneity_trans[:,0],heterogeneity_trans[:,1], label = 'transmission')\n",
    "\n",
    "plt.xlabel('concentration / mg per ml')\n",
    "plt.ylabel('thickness / nm')\n",
    "plt.legend()\n",
    "# tikzplotlib.save(\"VglMethConcThick.tex\")"
   ]
  },
  {
   "cell_type": "code",
   "execution_count": 31,
   "metadata": {},
   "outputs": [],
   "source": [
    "# plt.plot(heterogeneity_ref[:,1],heterogeneity_ref[:,3], label  = 'reflection')\n",
    "# plt.plot(heterogeneity_trans[:,1],heterogeneity_trans[:,3], label = 'transmission')\n",
    "\n",
    "# plt.xlim(0,500)\n",
    "\n",
    "# plt.xlabel('thickness / nm')\n",
    "# plt.ylabel('heterogeneity')\n",
    "\n",
    "# plt.legend()\n",
    "\n",
    "# #tikzplotlib.save(\"VglMethConcHeter.tex\")\n"
   ]
  },
  {
   "cell_type": "code",
   "execution_count": 32,
   "metadata": {},
   "outputs": [],
   "source": [
    "# plt.plot(heterogeneity_ref[:,1],heterogeneity_ref[:,3]- heterogeneity_trans[:,3], label  = 'differnce ref - trans')\n",
    "# plt.plot(heterogeneity_ref[:,1],np.ones(heterogeneity_ref[:,0].size) *np.mean(heterogeneity_ref[:,3]- heterogeneity_trans[:,3]), label  = 'mean')\n",
    "\n",
    "# plt.xlim(0,500)\n",
    "\n",
    "# plt.xlabel('thickness / nm')\n",
    "# plt.ylabel('heterogeneity')\n",
    "\n",
    "# plt.legend()\n",
    "# # tikzplotlib.save(\"VglMethConcHeterDiff.tex\")"
   ]
  },
  {
   "attachments": {},
   "cell_type": "markdown",
   "metadata": {},
   "source": [
    "## Plots Spectra"
   ]
  },
  {
   "attachments": {},
   "cell_type": "markdown",
   "metadata": {},
   "source": [
    "### Reflection"
   ]
  },
  {
   "cell_type": "code",
   "execution_count": 33,
   "metadata": {},
   "outputs": [],
   "source": [
    "# plt.plot(dfspec_ref500rpm.loc[:,'nm'], dfspec_ref500rpm.loc[:,'ref'], label  = '500 rpm')\n",
    "# #plt.plot(dfspec_ref2000rpm.loc[:,'nm'], dfspec_ref2000rpm.loc[:,'ref'], label  = '2000 rpm')\n",
    "# plt.plot(dfspec_ref5000rpm.loc[:,'nm'], dfspec_ref5000rpm.loc[:,'ref'], label  = '5000 rpm')\n",
    "\n",
    "# plt.xlabel('wavelength / nm')\n",
    "# plt.ylabel('reflectance / a.u.')\n",
    "# plt.legend()\n",
    "\n",
    "# # tikzplotlib.save(\"VglMessmeth_refl_500adn5000.tex\")"
   ]
  },
  {
   "cell_type": "code",
   "execution_count": 34,
   "metadata": {},
   "outputs": [],
   "source": [
    "# plt.plot(dfspec_trans500rpm.loc[:,'nm'], dfspec_trans500rpm.loc[:,'ref'], label  = '500 rpm')\n",
    "# #plt.plot(dfspec_ref2000rpm.loc[:,'nm'], dfspec_ref2000rpm.loc[:,'ref'], label  = '2000 rpm')\n",
    "# plt.plot(dfspec_trans5000rpm.loc[:,'nm'], dfspec_trans5000rpm.loc[:,'ref'], label  = '5000 rpm')\n",
    "\n",
    "# plt.xlabel('wavelength / nm')\n",
    "# plt.ylabel('transmission / a.u.')\n",
    "# plt.legend()\n",
    "# #tikzplotlib.save(\"VglMessmeth_trans_500adn5000.tex\")"
   ]
  },
  {
   "attachments": {},
   "cell_type": "markdown",
   "metadata": {},
   "source": [
    "# Schubert Fit\n",
    "\n"
   ]
  },
  {
   "cell_type": "code",
   "execution_count": null,
   "metadata": {},
   "outputs": [],
   "source": []
  },
  {
   "attachments": {},
   "cell_type": "markdown",
   "metadata": {},
   "source": [
    "## Exportieren to Latex"
   ]
  },
  {
   "cell_type": "code",
   "execution_count": 35,
   "metadata": {},
   "outputs": [],
   "source": [
    "# dfDataRef = pd.DataFrame(heterogeneity_ref, columns= ['rot. speed', 'thickness / nm', 'std / nm', 'thickness/std / a.u.', 'error fit / nm', 'std/error fit / a.u.']).round(2)\n",
    "# dfDataTrans = pd.DataFrame(heterogeneity_trans, columns= ['rot. speed', 'thickness / nm', 'std / nm', 'thickness/std / a.u.', 'error fit / nm', 'std/error fit / a.u.']).round(2)\n",
    "# dfDataRef.to_latex('VglMethodConcTableRef.tex')\n",
    "# dfDataTrans.to_latex('VglMethodConcTableTrans.tex')"
   ]
  }
 ],
 "metadata": {
  "kernelspec": {
   "display_name": "Python 3",
   "language": "python",
   "name": "python3"
  },
  "language_info": {
   "codemirror_mode": {
    "name": "ipython",
    "version": 3
   },
   "file_extension": ".py",
   "mimetype": "text/x-python",
   "name": "python",
   "nbconvert_exporter": "python",
   "pygments_lexer": "ipython3",
   "version": "3.10.11"
  },
  "orig_nbformat": 4
 },
 "nbformat": 4,
 "nbformat_minor": 2
}
