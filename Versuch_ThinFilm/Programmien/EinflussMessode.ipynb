{
 "cells": [
  {
   "attachments": {},
   "cell_type": "markdown",
   "metadata": {},
   "source": [
    "# Influnece of method\n"
   ]
  },
  {
   "cell_type": "code",
   "execution_count": 1,
   "metadata": {},
   "outputs": [],
   "source": [
    "import matplotlib.pyplot as plt\n",
    "import numpy as np\n",
    "import pandas as pd"
   ]
  },
  {
   "attachments": {},
   "cell_type": "markdown",
   "metadata": {},
   "source": [
    "Daten Einlesen\n"
   ]
  },
  {
   "cell_type": "code",
   "execution_count": 12,
   "metadata": {},
   "outputs": [],
   "source": [
    "dfref500rpm = pd.read_excel('data/Dicke500rpm_refl.xls',header = None, names = ['Nr.', 'd', 'xfit'])\n",
    "dfref750rpm = pd.read_excel('data/Dicke750rpm_refl.xls',header = None, names = ['Nr.', 'd', 'xfit'])\n",
    "dfref1000rpm = pd.read_excel('data/Dicke1000rpm_refl.xls',header = None, names = ['Nr.', 'd', 'xfit'])\n",
    "dfref2000rpm = pd.read_excel('data/Dicke2000rpm_refl.xls',header = None, names = ['Nr.', 'd', 'xfit'])\n",
    "dfref3000rpm = pd.read_excel('data/Dicke3000rpm_refl.xls',header = None, names = ['Nr.', 'd', 'xfit'])\n",
    "dfref4000rpm = pd.read_excel('data/Dicke4000rpm_refl.xls',header = None, names = ['Nr.', 'd', 'xfit'])\n",
    "dfref5000rpm = pd.read_excel('data/Dicke5000rpm_refl.xls',header = None, names = ['Nr.', 'd', 'xfit'])\n",
    "dfref6000rpm = pd.read_excel('data/Dicke6000rpm_refl.xls',header = None, names = ['Nr.', 'd', 'xfit'])\n"
   ]
  },
  {
   "attachments": {},
   "cell_type": "markdown",
   "metadata": {},
   "source": [
    "## Funktionen\n"
   ]
  },
  {
   "cell_type": "code",
   "execution_count": 25,
   "metadata": {},
   "outputs": [],
   "source": [
    "def mittelwert(df):\n",
    "    return np.array([np.mean(df.loc[:,'d']), np.std(df.loc[:,'d']), np.mean(df.loc[:,'d'])/ np.std(df.loc[:,'d'])])\n",
    "\n"
   ]
  },
  {
   "cell_type": "code",
   "execution_count": 30,
   "metadata": {},
   "outputs": [
    {
     "name": "stdout",
     "output_type": "stream",
     "text": [
      "[[894.55        28.87979397  30.97494396]\n",
      " [740.48333333   8.17382339  90.59203968]\n",
      " [604.6          5.35568234 112.88944369]\n",
      " [466.71666667   6.81356898  68.49812017]\n",
      " [405.21666667   7.19036779  56.35548539]\n",
      " [360.85         7.48325909  48.22096836]\n",
      " [329.66666667  14.92633765  22.0862394 ]\n",
      " [302.68333333   5.32366311  56.85621483]]\n"
     ]
    }
   ],
   "source": [
    "heterogeneity_ref = mittelwert(dfref500rpm)\n",
    "for i in [dfref750rpm ,dfref1000rpm,dfref2000rpm,dfref3000rpm,dfref4000rpm,dfref5000rpm,dfref6000rpm]:\n",
    "    heterogeneity_ref = np.vstack((heterogeneity_ref, mittelwert(i)))\n"
   ]
  }
 ],
 "metadata": {
  "kernelspec": {
   "display_name": "Python 3",
   "language": "python",
   "name": "python3"
  },
  "language_info": {
   "codemirror_mode": {
    "name": "ipython",
    "version": 3
   },
   "file_extension": ".py",
   "mimetype": "text/x-python",
   "name": "python",
   "nbconvert_exporter": "python",
   "pygments_lexer": "ipython3",
   "version": "3.10.3"
  },
  "orig_nbformat": 4
 },
 "nbformat": 4,
 "nbformat_minor": 2
}
